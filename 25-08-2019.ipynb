{
 "cells": [
  {
   "cell_type": "markdown",
   "metadata": {},
   "source": [
    "#### python function to sum of all numbers in a list:\n"
   ]
  },
  {
   "cell_type": "code",
   "execution_count": 6,
   "metadata": {},
   "outputs": [
    {
     "name": "stdout",
     "output_type": "stream",
     "text": [
      "enter the range: 3\n",
      "enetr your numbers: 6\n",
      "enetr your numbers: 3\n",
      "enetr your numbers: 6\n",
      "15\n"
     ]
    }
   ],
   "source": [
    "r = int(input(\"enter the range: \"))\n",
    "l = []\n",
    "def add():\n",
    "    for i in range(1,r+1):\n",
    "        n = int(input(\"enetr your numbers: \"))\n",
    "        l.append(n)\n",
    "        s = sum(l)\n",
    "    print(s)\n",
    "add()"
   ]
  },
  {
   "cell_type": "markdown",
   "metadata": {},
   "source": [
    "#### count the no.of digits in a given number"
   ]
  },
  {
   "cell_type": "code",
   "execution_count": 2,
   "metadata": {},
   "outputs": [
    {
     "name": "stdout",
     "output_type": "stream",
     "text": [
      "enter the numbers: 5 6 4 5 4 4\n",
      "6\n"
     ]
    }
   ],
   "source": [
    "n = input(\"enter the numbers: \").split()\n",
    "l = len(n)\n",
    "c = 0\n",
    "def count(c,l):\n",
    "    for i in range (1,l+1):\n",
    "        c = c+1\n",
    "    print(c)\n",
    "count(c,l)"
   ]
  },
  {
   "cell_type": "markdown",
   "metadata": {},
   "source": [
    "#### leap year using function:"
   ]
  },
  {
   "cell_type": "code",
   "execution_count": 4,
   "metadata": {},
   "outputs": [
    {
     "name": "stdout",
     "output_type": "stream",
     "text": [
      "enter year: 2013\n",
      "not a leap year\n"
     ]
    }
   ],
   "source": [
    "year = int(input(\"enter year: \"))\n",
    "def leap(year):\n",
    "    if (year%4 == 0 and year%100!=0) or year%400==0:\n",
    "        print(\"leap year\")\n",
    "    else:\n",
    "        print(\"not a leap year\")\n",
    "leap(year)"
   ]
  },
  {
   "cell_type": "markdown",
   "metadata": {},
   "source": [
    "#### leap years in a given range of years using functions:"
   ]
  },
  {
   "cell_type": "code",
   "execution_count": 1,
   "metadata": {},
   "outputs": [
    {
     "name": "stdout",
     "output_type": "stream",
     "text": [
      "enter the start year: 2019\n",
      "enter the last year: 2000\n",
      "2019 not a leap year\n",
      "2018 not a leap year\n",
      "2017 not a leap year\n",
      "2016\n",
      "2015 not a leap year\n",
      "2014 not a leap year\n",
      "2013 not a leap year\n",
      "2012\n",
      "2011 not a leap year\n",
      "2010 not a leap year\n",
      "2009 not a leap year\n",
      "2008\n",
      "2007 not a leap year\n",
      "2006 not a leap year\n",
      "2005 not a leap year\n",
      "2004\n",
      "2003 not a leap year\n",
      "2002 not a leap year\n",
      "2001 not a leap year\n",
      "2000\n"
     ]
    }
   ],
   "source": [
    "n = int(input(\"enter the start year: \"))\n",
    "r = int(input(\"enter the last year: \"))\n",
    "def find():\n",
    "    for i in range (n,r-1,-1):\n",
    "        if (i%4 == 0 and i%100!= 0) or i%400 == 0:\n",
    "            print(i)\n",
    "        else:\n",
    "            print(i, \"not a leap year\")\n",
    "find()                 "
   ]
  },
  {
   "cell_type": "markdown",
   "metadata": {},
   "source": [
    "#### Greatest of 3 numbers:"
   ]
  },
  {
   "cell_type": "code",
   "execution_count": 6,
   "metadata": {},
   "outputs": [
    {
     "name": "stdout",
     "output_type": "stream",
     "text": [
      "enter your number: 40\n",
      "enter another number: 20\n",
      "enetr 3rd number: 41\n",
      "41 is big number\n"
     ]
    }
   ],
   "source": [
    "n1 = int(input(\"enter your number: \"))\n",
    "n2 = int(input(\"enter another number: \"))\n",
    "n3 = int(input(\"enetr 3rd number: \"))\n",
    "def large(n1,n2,n3):\n",
    "    if n1>n2:\n",
    "        if n1>n3:\n",
    "            print(n1, \"is big number\")\n",
    "        else:\n",
    "            print(n3, \"is big number\")\n",
    "    else:\n",
    "        if n2>n3:\n",
    "            print(n2, \"is big\")\n",
    "large(n1,n2,n3)"
   ]
  },
  {
   "cell_type": "markdown",
   "metadata": {},
   "source": [
    "#### list of factors of a given number:"
   ]
  },
  {
   "cell_type": "code",
   "execution_count": 8,
   "metadata": {},
   "outputs": [
    {
     "name": "stdout",
     "output_type": "stream",
     "text": [
      "enter your number: 25\n",
      "[1, 5]\n"
     ]
    }
   ],
   "source": [
    "n = int(input(\"enter your number: \"))\n",
    "l = []\n",
    "def factor(n,l):\n",
    "    for i in range (1,n):\n",
    "        if n%i==0:\n",
    "            l.append(i)\n",
    "        else:\n",
    "            continue\n",
    "    print(l)\n",
    "factor(n,l)"
   ]
  },
  {
   "cell_type": "code",
   "execution_count": 11,
   "metadata": {},
   "outputs": [
    {
     "name": "stdout",
     "output_type": "stream",
     "text": [
      "enter your number: 5\n",
      "120\n"
     ]
    }
   ],
   "source": [
    "n = int(input(\"enter your number: \"))\n",
    "def f(n):\n",
    "    fact = 1\n",
    "    for i in range (1,n+1):\n",
    "        fact = fact*i\n",
    "    print(fact)\n",
    "f(n)"
   ]
  },
  {
   "cell_type": "markdown",
   "metadata": {},
   "source": [
    "#### check weather the given number is prime or not:"
   ]
  },
  {
   "cell_type": "code",
   "execution_count": 1,
   "metadata": {},
   "outputs": [
    {
     "name": "stdout",
     "output_type": "stream",
     "text": [
      "enter your number: 2\n",
      "number is a prime number\n"
     ]
    }
   ],
   "source": [
    "n = int(input(\"enter your number: \"))\n",
    "def prime(n):\n",
    "    c = 0\n",
    "    for i in range (1,n+1):\n",
    "        if n%i==0:\n",
    "            c = c+1\n",
    "        else:\n",
    "            continue\n",
    "    if c == 2 :\n",
    "        print(\"number is a prime number\")\n",
    "    else:\n",
    "        print(\"not a prime number\")\n",
    "prime(n)"
   ]
  },
  {
   "cell_type": "markdown",
   "metadata": {},
   "source": [
    "#### perfect number in a given range:"
   ]
  },
  {
   "cell_type": "code",
   "execution_count": 15,
   "metadata": {},
   "outputs": [
    {
     "name": "stdout",
     "output_type": "stream",
     "text": [
      "enetr your lower range: 20\n",
      "enter your upper range: 30\n",
      "22\n",
      "33\n",
      "47\n",
      "48\n",
      "84\n",
      "90\n",
      "106\n",
      "119\n",
      "147\n",
      "148\n",
      "190\n"
     ]
    }
   ],
   "source": [
    "n1 = int(input(\"enetr your lower range: \"))\n",
    "n2 = int(input(\"enter your upper range: \"))\n",
    "#def num(n1,n2):\n",
    "sum = 0\n",
    "for i in range (n1,n2+1):\n",
    "    for j in range(1,n1):\n",
    "        if i%j == 0:\n",
    "            sum = sum+j\n",
    "    print(sum)"
   ]
  },
  {
   "cell_type": "markdown",
   "metadata": {},
   "source": [
    "#### program to reverse a string:"
   ]
  },
  {
   "cell_type": "code",
   "execution_count": 2,
   "metadata": {},
   "outputs": [
    {
     "name": "stdout",
     "output_type": "stream",
     "text": [
      "enter your string: suryadevara\n",
      "aravedayrus\n"
     ]
    }
   ],
   "source": [
    "s = input(\"enter your string: \")\n",
    "l = len(s)\n",
    "print(s[ : :-1])"
   ]
  },
  {
   "cell_type": "markdown",
   "metadata": {},
   "source": [
    "#### even numbers from a given list:"
   ]
  },
  {
   "cell_type": "code",
   "execution_count": 39,
   "metadata": {},
   "outputs": [
    {
     "name": "stdout",
     "output_type": "stream",
     "text": [
      "enter the range of the list: 5\n",
      "enter your numbers: 4\n",
      "enter your numbers: 5\n",
      "enter your numbers: 8\n",
      "enter your numbers: 7\n",
      "enter your numbers: 9\n",
      "4\n",
      "8\n"
     ]
    }
   ],
   "source": [
    "r = int(input(\"enter the range of the list: \"))\n",
    "l= []\n",
    "for i in range (r):\n",
    "    n = int(input(\"enter your numbers: \"))\n",
    "    l.append(n)\n",
    "#print(l)\n",
    "#print(len(l))\n",
    "def eve(l,r):\n",
    "    for x in range(r):\n",
    "        if l[x]%2==0:\n",
    "            print(l[x])\n",
    "        else:\n",
    "            continue\n",
    "eve(l,r)"
   ]
  },
  {
   "cell_type": "markdown",
   "metadata": {},
   "source": [
    "#### check the number is in given range or not:\n"
   ]
  },
  {
   "cell_type": "code",
   "execution_count": 41,
   "metadata": {},
   "outputs": [
    {
     "name": "stdout",
     "output_type": "stream",
     "text": [
      "enter the number: 5\n",
      "enter the lower bound: 4\n",
      "enter the upper bound: 10\n",
      "yes\n"
     ]
    }
   ],
   "source": [
    "def check(f,d,e):\n",
    "    if f in range(d,e):\n",
    "        print(\"yes\")\n",
    "    else:\n",
    "        print(\"no\")\n",
    "f = int(input(\"enter the number: \"))\n",
    "i = int(input(\"enter the lower bound: \"))\n",
    "j = int(input(\"enter the upper bound: \"))\n",
    "check(f,i,j)"
   ]
  },
  {
   "cell_type": "markdown",
   "metadata": {},
   "source": [
    "####  program to accept the string an calculate the lower case and upper case letters in the given string:"
   ]
  },
  {
   "cell_type": "code",
   "execution_count": 47,
   "metadata": {},
   "outputs": [
    {
     "name": "stdout",
     "output_type": "stream",
     "text": [
      "enter the your string: SfatDJSHDa\n",
      "6\n",
      "4\n"
     ]
    }
   ],
   "source": [
    "s = input(\"enter the your string: \")\n",
    "l = len(s)\n",
    "def string(s,l):\n",
    "    c=0\n",
    "    w=0\n",
    "    for i in range (l):\n",
    "        if (s[i].isupper()):\n",
    "            c = c+1\n",
    "        elif (s[i].islower()):\n",
    "            w = w+1\n",
    "    print(c)\n",
    "    print(w)\n",
    "string(s,l)            "
   ]
  },
  {
   "cell_type": "markdown",
   "metadata": {},
   "source": [
    "#### Palindrome"
   ]
  },
  {
   "cell_type": "code",
   "execution_count": 5,
   "metadata": {},
   "outputs": [
    {
     "name": "stdout",
     "output_type": "stream",
     "text": [
      "enter the string: 121\n",
      "yes\n"
     ]
    }
   ],
   "source": [
    "s = input(\"enter the string: \")\n",
    "l = len(s)\n",
    "def pali(s,l):\n",
    "    for i in range(l):\n",
    "        for j in range (l):\n",
    "            b = (l-1)-j\n",
    "    if s[b]==s[i]:\n",
    "        print(\"yes\")\n",
    "    else:\n",
    "        print(\"no\")\n",
    "pali(s,l)"
   ]
  },
  {
   "cell_type": "markdown",
   "metadata": {},
   "source": [
    "#### take a list and return a new list \n",
    "- sample:[1,2,3,3,4,5,4]\n",
    "  - unique:[1,2,3,4,5]"
   ]
  },
  {
   "cell_type": "code",
   "execution_count": 7,
   "metadata": {},
   "outputs": [
    {
     "name": "stdout",
     "output_type": "stream",
     "text": [
      "enter the range of the list: 5\n",
      "enter your numbers: 1\n",
      "enter your numbers: 2\n",
      "enter your numbers: 3\n",
      "enter your numbers: 3\n",
      "enter your numbers: 5\n",
      "[1, 2, 3, 5]\n"
     ]
    }
   ],
   "source": [
    "r = int(input(\"enter the range of the list: \"))\n",
    "l1 = []\n",
    "for x in range(r):\n",
    "    n = int(input(\"enter your numbers: \"))\n",
    "    l1.append(n)\n",
    "l = len(l1)\n",
    "l2 = []\n",
    "def uni(l1,l2,l):\n",
    "    for i in range(l):\n",
    "        if l1[i] not in l2:\n",
    "            l2.append(l1[i])\n",
    "        else:\n",
    "            continue\n",
    "    print(l2)\n",
    "uni(l1,l2,l)"
   ]
  },
  {
   "cell_type": "markdown",
   "metadata": {},
   "source": [
    "#### multiply all the numbers in a list:\n"
   ]
  },
  {
   "cell_type": "code",
   "execution_count": 8,
   "metadata": {},
   "outputs": [
    {
     "name": "stdout",
     "output_type": "stream",
     "text": [
      "enter the range of the list: 3\n",
      "enter your numbers: 2\n",
      "enter your numbers: 3\n",
      "enter your numbers: 5\n",
      "30\n"
     ]
    }
   ],
   "source": [
    "r = int(input(\"enter the range of the list: \"))\n",
    "li = []\n",
    "for x in range (r):\n",
    "    n = int(input(\"enter your numbers: \"))\n",
    "    li.append(n)\n",
    "l = len(li)\n",
    "def mu(l,li):\n",
    "    m = 1\n",
    "    for i in range(l):\n",
    "        m = m*li[i]\n",
    "    print(m)\n",
    "mu(l,li)"
   ]
  },
  {
   "cell_type": "markdown",
   "metadata": {},
   "source": [
    "#### perfect numbers in a given range: "
   ]
  },
  {
   "cell_type": "code",
   "execution_count": 5,
   "metadata": {},
   "outputs": [
    {
     "name": "stdout",
     "output_type": "stream",
     "text": [
      "enter lower bound: 1\n",
      "enter upper bound: 100\n",
      "6\n",
      "28\n"
     ]
    }
   ],
   "source": [
    "l = int(input(\"enter lower bound: \"))\n",
    "u = int(input(\"enter upper bound: \"))\n",
    "def factor():\n",
    "    l = []\n",
    "    for i in range (1,x):\n",
    "        if x%i==0:\n",
    "            l.append(i)\n",
    "        else:\n",
    "            continue\n",
    "    if sum(l)==x:\n",
    "        print(x)\n",
    "for x in range (l,u+1):\n",
    "    factor()"
   ]
  }
 ],
 "metadata": {
  "kernelspec": {
   "display_name": "Python 3",
   "language": "python",
   "name": "python3"
  },
  "language_info": {
   "codemirror_mode": {
    "name": "ipython",
    "version": 3
   },
   "file_extension": ".py",
   "mimetype": "text/x-python",
   "name": "python",
   "nbconvert_exporter": "python",
   "pygments_lexer": "ipython3",
   "version": "3.7.3"
  }
 },
 "nbformat": 4,
 "nbformat_minor": 2
}
