{
 "cells": [
  {
   "cell_type": "markdown",
   "metadata": {},
   "source": [
    "## Files in Python"
   ]
  },
  {
   "cell_type": "markdown",
   "metadata": {},
   "source": [
    "### 3 steps to work with files in python\n",
    "- Open file by specific operation\n",
    "- Do your required operation\n",
    "- close the file "
   ]
  },
  {
   "cell_type": "code",
   "execution_count": 4,
   "metadata": {},
   "outputs": [
    {
     "name": "stdout",
     "output_type": "stream",
     "text": [
      "sravya\n",
      "suryadevara\n"
     ]
    }
   ],
   "source": [
    "## read the data in book.txt\n",
    "## for reading the file use \"r\" and for writing use \"w\"\n",
    "\n",
    "a = open(\"book.txt\", \"r\")\n",
    "data = a.read()\n",
    "print(data)\n",
    "a.close()"
   ]
  },
  {
   "cell_type": "markdown",
   "metadata": {},
   "source": [
    "#### writing data into mystory.txt"
   ]
  },
  {
   "cell_type": "code",
   "execution_count": 20,
   "metadata": {},
   "outputs": [
    {
     "name": "stdout",
     "output_type": "stream",
     "text": [
      "my name is Sravya\n"
     ]
    }
   ],
   "source": [
    "a = open(\"mystory.txt\", \"w\")\n",
    "n = \"my name is Sravya\"\n",
    "a.write(n)\n",
    "a.close()\n",
    "b = open(\"mystory.txt\", \"r\")\n",
    "data = b.read()\n",
    "print(data)\n",
    "b.close()\n"
   ]
  },
  {
   "cell_type": "code",
   "execution_count": 17,
   "metadata": {},
   "outputs": [],
   "source": [
    "a = open(\"mystory.txt\",\"w\")\n",
    "n = open(\"book.txt\",\"r\")\n",
    "d = n.read()\n",
    "a.write(d)\n",
    "#print(d)\n",
    "n.close()\n",
    "a.close()"
   ]
  },
  {
   "cell_type": "code",
   "execution_count": 18,
   "metadata": {},
   "outputs": [],
   "source": [
    "a = open(\"mystory.txt\", \"w\")\n",
    "content = \"this is my tag line\"\n",
    "a.write(content)\n",
    "a.write(\"this is my second tag line\")\n",
    "a.close()"
   ]
  },
  {
   "cell_type": "markdown",
   "metadata": {},
   "source": [
    "a = open(\"mystory.txt\", \"r\")\n",
    "d = a.read()\n",
    "d = a.read()\n",
    "print(d)\n",
    "a.close()"
   ]
  },
  {
   "cell_type": "markdown",
   "metadata": {},
   "source": [
    "#### tell method is used to know the position of the cursor "
   ]
  },
  {
   "cell_type": "code",
   "execution_count": 21,
   "metadata": {},
   "outputs": [
    {
     "name": "stdout",
     "output_type": "stream",
     "text": [
      "cursor 0\n",
      "cursor 17\n",
      "\n"
     ]
    }
   ],
   "source": [
    "a = open(\"mystory.txt\", \"r\")\n",
    "print(\"cursor\", a.tell())\n",
    "d = a.read()\n",
    "print(\"cursor\", a.tell())\n",
    "d = a.read()\n",
    "print(d)\n",
    "a.close()"
   ]
  },
  {
   "cell_type": "markdown",
   "metadata": {},
   "source": [
    "#### Seek() method is used to bring the cursor back to first position"
   ]
  },
  {
   "cell_type": "code",
   "execution_count": 22,
   "metadata": {},
   "outputs": [
    {
     "name": "stdout",
     "output_type": "stream",
     "text": [
      "cursor 17\n",
      "my name is Sravya\n",
      "cursor 0\n",
      "my name is Sravya\n"
     ]
    }
   ],
   "source": [
    "a = open(\"mystory.txt\", \"r\")\n",
    "data = a.read()\n",
    "print(\"cursor\", a.tell())\n",
    "print(data)\n",
    "a.seek(0)\n",
    "print(\"cursor\", a.tell())\n",
    "data = a.read()\n",
    "print(data)\n",
    "a.close()"
   ]
  },
  {
   "cell_type": "markdown",
   "metadata": {},
   "source": [
    "#### append() method is used to write data in to file\n",
    "- the only difference between append() and write() method is write() method will delete the previous data but append() not"
   ]
  },
  {
   "cell_type": "code",
   "execution_count": 24,
   "metadata": {},
   "outputs": [],
   "source": [
    "a = open(\"mystory.txt\", \"a\")\n",
    "a.write(\"sravya anvesh\")\n",
    "a.close()"
   ]
  },
  {
   "cell_type": "markdown",
   "metadata": {},
   "source": [
    "#### writing data from one file to another file"
   ]
  },
  {
   "cell_type": "code",
   "execution_count": 65,
   "metadata": {},
   "outputs": [
    {
     "name": "stdout",
     "output_type": "stream",
     "text": [
      "line 1\n",
      "line 2\n",
      "line 3\n",
      "line 402\n",
      "line 5\n",
      "line 6\n",
      "['1', '2', '3', '402', '5', '6']\n",
      "1\n",
      "2\n",
      "3\n",
      "402\n",
      "5\n",
      "6\n"
     ]
    }
   ],
   "source": [
    "import re\n",
    "a = open(\"book.txt\", \"r\")\n",
    "data = a.read()\n",
    "print(data)\n",
    "result = re.findall(\"\\d+\",data)\n",
    "print(result)\n",
    "b = open(\"mystory.txt\",\"w\")\n",
    "for x in result:\n",
    "    print(x)\n",
    "    b.write(x+\"\\n\")\n",
    "b.close()\n",
    "a.close()\n",
    "    "
   ]
  },
  {
   "cell_type": "markdown",
   "metadata": {},
   "source": [
    "#### if no method is mentioned it will take defaultly as read method"
   ]
  },
  {
   "cell_type": "code",
   "execution_count": 66,
   "metadata": {},
   "outputs": [
    {
     "name": "stdout",
     "output_type": "stream",
     "text": [
      "6\n"
     ]
    }
   ],
   "source": [
    "f = open(\"mystory.txt\")\n",
    "count = 0\n",
    "for x in f:\n",
    "    count += 1\n",
    "print(count)\n",
    "f.close()"
   ]
  },
  {
   "cell_type": "code",
   "execution_count": 68,
   "metadata": {},
   "outputs": [
    {
     "name": "stdout",
     "output_type": "stream",
     "text": [
      "3\n",
      "\n"
     ]
    }
   ],
   "source": [
    "f = open(\"mystory.txt\")\n",
    "count = 0\n",
    "for x in f:\n",
    "    count += 1\n",
    "    if count==3:\n",
    "        print(x)\n",
    "#print(count)\n",
    "f.close()"
   ]
  },
  {
   "cell_type": "markdown",
   "metadata": {},
   "source": [
    "### readline()\n",
    "- is to read one line from the cursor position\n",
    "\n",
    "### readlines()\n",
    "- is to read multiple lines from the cursor position"
   ]
  },
  {
   "cell_type": "code",
   "execution_count": 71,
   "metadata": {},
   "outputs": [
    {
     "name": "stdout",
     "output_type": "stream",
     "text": [
      "line 1\n",
      "\n",
      "line 2\n",
      "\n"
     ]
    }
   ],
   "source": [
    "a = open(\"book.txt\",\"r\")\n",
    "d1 = a.readline()\n",
    "d = a.readline()\n",
    "print(d1)\n",
    "print(d)\n",
    "a.close()"
   ]
  },
  {
   "cell_type": "code",
   "execution_count": 73,
   "metadata": {},
   "outputs": [
    {
     "name": "stdout",
     "output_type": "stream",
     "text": [
      "['line 2\\n', 'line 3\\n', 'line 402\\n', 'line 5\\n', 'line 6']\n"
     ]
    }
   ],
   "source": [
    "a = open(\"book.txt\",\"r\")\n",
    "d1 = a.readline()\n",
    "d = a.readlines()\n",
    "#print(d1)\n",
    "print(d)\n",
    "a.close()"
   ]
  },
  {
   "cell_type": "markdown",
   "metadata": {},
   "source": [
    "#### r+/w+ is used for defining read mode in write metod as well as write mode in read method\n",
    "- but the difference between r+ and w+ is "
   ]
  },
  {
   "cell_type": "code",
   "execution_count": 74,
   "metadata": {},
   "outputs": [
    {
     "name": "stdout",
     "output_type": "stream",
     "text": [
      "cursor 13\n",
      "2\n",
      "line 3\n",
      "line 402\n",
      "line 5\n",
      "line 6\n"
     ]
    }
   ],
   "source": [
    "a = open(\"book.txt\",\"r+\")\n",
    " \n",
    "a.write(\"Sravya Anvesh\")\n",
    "\n",
    "print(\"cursor\", a.tell())\n",
    "\n",
    "d = a.read()\n",
    "\n",
    "print(d)\n",
    "a.close()"
   ]
  },
  {
   "cell_type": "code",
   "execution_count": 75,
   "metadata": {},
   "outputs": [
    {
     "name": "stdout",
     "output_type": "stream",
     "text": [
      "cursor 13\n",
      "\n"
     ]
    }
   ],
   "source": [
    "a = open(\"book.txt\",\"w+\")\n",
    " \n",
    "a.write(\"Sravya Anvesh\")\n",
    "\n",
    "print(\"cursor\", a.tell())\n",
    "\n",
    "d = a.read()\n",
    "\n",
    "print(d)\n",
    "a.close()"
   ]
  },
  {
   "cell_type": "code",
   "execution_count": 86,
   "metadata": {},
   "outputs": [
    {
     "name": "stdout",
     "output_type": "stream",
     "text": [
      "101\tsravya\t\t3978548596\n",
      "\n",
      "103\tanvesh\t\t4912343439\n"
     ]
    }
   ],
   "source": [
    "a = open(\"new.txt\",\"r\")\n",
    "b = open(\"report.txt\",\"w\")\n",
    "count = 0\n",
    "for x in a:\n",
    "    count += 1\n",
    "    if count == 1:\n",
    "        b.write(x)\n",
    "    else:\n",
    "        if re.search(\"[0-5]\\d{9}\",x):\n",
    "            print(x)\n",
    "            b.write(x)\n",
    "a.close()\n",
    "b.close()"
   ]
  },
  {
   "cell_type": "code",
   "execution_count": 103,
   "metadata": {},
   "outputs": [
    {
     "name": "stdout",
     "output_type": "stream",
     "text": [
      "103\tsuryadevara  7744885599\t\t 10\t20\n",
      "\n"
     ]
    }
   ],
   "source": [
    "a = open(\"data.txt\",\"r\")\n",
    "b = open(\"report1.txt\",\"w\")\n",
    "count = 0\n",
    "for x in a:\n",
    "    count = count+1\n",
    "    if count == 1:\n",
    "        b.write(x)\n",
    "    else:\n",
    "        if re.search(\"[0-3]\\d$\",x):\n",
    "            print(x)\n",
    "            b.write(x)\n",
    "a.close()\n",
    "b.close()"
   ]
  },
  {
   "cell_type": "code",
   "execution_count": null,
   "metadata": {},
   "outputs": [],
   "source": []
  }
 ],
 "metadata": {
  "kernelspec": {
   "display_name": "Python 3",
   "language": "python",
   "name": "python3"
  },
  "language_info": {
   "codemirror_mode": {
    "name": "ipython",
    "version": 3
   },
   "file_extension": ".py",
   "mimetype": "text/x-python",
   "name": "python",
   "nbconvert_exporter": "python",
   "pygments_lexer": "ipython3",
   "version": "3.7.3"
  }
 },
 "nbformat": 4,
 "nbformat_minor": 2
}
