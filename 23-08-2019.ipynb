{
 "cells": [
  {
   "cell_type": "markdown",
   "metadata": {},
   "source": [
    "#### range of prime numbers:"
   ]
  },
  {
   "cell_type": "code",
   "execution_count": 6,
   "metadata": {},
   "outputs": [
    {
     "name": "stdout",
     "output_type": "stream",
     "text": [
      "10\n",
      "2 3 5 7 "
     ]
    }
   ],
   "source": [
    "N = int(input())\n",
    "for i in range(1,N):\n",
    "    count = 0\n",
    "    for j in range(1,i):\n",
    "        if i%j==0:\n",
    "            count += 1\n",
    "        else:\n",
    "            continue\n",
    "    if count == 1:\n",
    "        print(i,end = \" \")\n",
    "    "
   ]
  },
  {
   "cell_type": "markdown",
   "metadata": {},
   "source": [
    "#### string palindrome:"
   ]
  },
  {
   "cell_type": "code",
   "execution_count": 2,
   "metadata": {},
   "outputs": [
    {
     "name": "stdout",
     "output_type": "stream",
     "text": [
      "enter the string: madam\n",
      "yes\n"
     ]
    }
   ],
   "source": [
    "s = input(\"enter the string: \")\n",
    "l = len(s)\n",
    "for i in range(l):\n",
    "    for j in range (l):\n",
    "        b = (l-1)-j\n",
    "if s[b]==s[i]:\n",
    "    print(\"yes\")\n",
    "    "
   ]
  },
  {
   "cell_type": "markdown",
   "metadata": {},
   "source": [
    "#### count of multiples of k in between i and j"
   ]
  },
  {
   "cell_type": "code",
   "execution_count": 10,
   "metadata": {},
   "outputs": [
    {
     "name": "stdout",
     "output_type": "stream",
     "text": [
      "1 10 1\n",
      "10\n"
     ]
    }
   ],
   "source": [
    "a = input().split()\n",
    "s = len(a)\n",
    "l = int(a[0])\n",
    "r = int(a[1])\n",
    "k = int(a[2])\n",
    "count = 0\n",
    "for i in range(l,r+1):\n",
    "    if i%k==0:\n",
    "        count = count+1\n",
    "print(count)"
   ]
  },
  {
   "cell_type": "markdown",
   "metadata": {},
   "source": [
    "#### factorial "
   ]
  },
  {
   "cell_type": "code",
   "execution_count": 3,
   "metadata": {},
   "outputs": [
    {
     "name": "stdout",
     "output_type": "stream",
     "text": [
      "2\n",
      "2\n"
     ]
    }
   ],
   "source": [
    "N = int(input())\n",
    "fact = 1\n",
    "for i in range(1,N+1):\n",
    "    fact = fact*i\n",
    "print(fact)"
   ]
  },
  {
   "cell_type": "markdown",
   "metadata": {},
   "source": [
    "#### Toggle String:\n",
    "- swapcase() is to change the upper case letters to lower case letters and wiseversa"
   ]
  },
  {
   "cell_type": "code",
   "execution_count": 6,
   "metadata": {},
   "outputs": [
    {
     "name": "stdout",
     "output_type": "stream",
     "text": [
      "SraVya\n",
      "sRAvYA\n"
     ]
    }
   ],
   "source": [
    "s = input()\n",
    "a = s.swapcase()\n",
    "print(a)"
   ]
  },
  {
   "cell_type": "code",
   "execution_count": 28,
   "metadata": {},
   "outputs": [
    {
     "name": "stdout",
     "output_type": "stream",
     "text": [
      "sravya  avrays\n"
     ]
    }
   ],
   "source": [
    "import re\n",
    "#T = int(input(\"test cases: \"))\n",
    "s = input().split()\n",
    "#print(s)\n",
    "s1 = s[0]\n",
    "s2 = s[1]\n",
    "l1 = len(s1)\n",
    "l2 = len(s2)\n",
    "for i in range (l1):\n",
    "    a = s1[i]\n",
    "for j in range(l2):\n",
    "    b = s2[j]\n",
    "for x in s1:\n",
    "    if \n",
    "        print(\"s\")\n",
    "   \n"
   ]
  },
  {
   "cell_type": "markdown",
   "metadata": {},
   "source": [
    "#### uploading a profile picture in facebook"
   ]
  },
  {
   "cell_type": "code",
   "execution_count": 1,
   "metadata": {},
   "outputs": [
    {
     "name": "stdout",
     "output_type": "stream",
     "text": [
      "180\n",
      "3\n",
      "640 480\n",
      "CROP IT\n",
      "120 300\n",
      "UPLOAD ANOTHER\n",
      "180 180\n",
      "ACCEPTED\n"
     ]
    }
   ],
   "source": [
    "L = int(input())\n",
    "N = int(input())\n",
    "for i in range (1,N+1):\n",
    "    d = input().split()\n",
    "    W = int(d[0])\n",
    "    H = int(d[1])\n",
    "    if W<L or H<L:\n",
    "        print(\"UPLOAD ANOTHER\")\n",
    "    else:\n",
    "        if W>=L and H>=L:\n",
    "            if W==H:\n",
    "                print(\"ACCEPTED\")\n",
    "            else:\n",
    "                print(\"CROP IT\")\n",
    "    "
   ]
  },
  {
   "cell_type": "markdown",
   "metadata": {},
   "source": [
    "#### helping harry to find voldmorts potions book "
   ]
  },
  {
   "cell_type": "code",
   "execution_count": 20,
   "metadata": {},
   "outputs": [
    {
     "name": "stdout",
     "output_type": "stream",
     "text": [
      "1401601499\n",
      "Legal ISBN\n"
     ]
    }
   ],
   "source": [
    "ICBN = input()\n",
    "l = len(ICBN)\n",
    "sum = 0\n",
    "if l==10:\n",
    "    for i in range (0,l+1):\n",
    "        for j in range(1,l+1):\n",
    "            sum = sum+(i*j)\n",
    "    if sum%11==0:\n",
    "         print(\"Legal ISBN\")\n",
    "    else:\n",
    "         print(\"Illegal ISBN\")\n",
    "else:\n",
    "    print(\"Illegal ISBN\")\n"
   ]
  },
  {
   "cell_type": "code",
   "execution_count": null,
   "metadata": {},
   "outputs": [],
   "source": []
  }
 ],
 "metadata": {
  "kernelspec": {
   "display_name": "Python 3",
   "language": "python",
   "name": "python3"
  },
  "language_info": {
   "codemirror_mode": {
    "name": "ipython",
    "version": 3
   },
   "file_extension": ".py",
   "mimetype": "text/x-python",
   "name": "python",
   "nbconvert_exporter": "python",
   "pygments_lexer": "ipython3",
   "version": "3.7.3"
  }
 },
 "nbformat": 4,
 "nbformat_minor": 2
}
