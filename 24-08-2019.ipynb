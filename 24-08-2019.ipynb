{
 "cells": [
  {
   "cell_type": "code",
   "execution_count": 3,
   "metadata": {},
   "outputs": [
    {
     "name": "stdout",
     "output_type": "stream",
     "text": [
      "59\n",
      "46\n",
      "46 52\n",
      "52 63\n",
      "45\n",
      "12\n",
      "12 22\n",
      "22 EXIT\n",
      "\n",
      "52\n"
     ]
    }
   ],
   "source": [
    "n = input()\n",
    "even = []\n",
    "while n!=\"EXIT\":\n",
    "    n = int(n)\n",
    "    if n%2==0:\n",
    "        even.append(n)\n",
    "        print(n,end = \" \")\n",
    "    n = input()\n",
    "print()\n",
    "print(max(even))"
   ]
  },
  {
   "cell_type": "markdown",
   "metadata": {},
   "source": [
    "# Functions:\n",
    "- advantage of Function is code reusability and easy to debug."
   ]
  },
  {
   "cell_type": "markdown",
   "metadata": {},
   "source": [
    "### Declaration of function in python\n",
    "- Function in python is declared by using \"def\"\n",
    "- Syntax:\n",
    "    def function_name():"
   ]
  },
  {
   "cell_type": "code",
   "execution_count": 1,
   "metadata": {},
   "outputs": [
    {
     "name": "stdout",
     "output_type": "stream",
     "text": [
      "enetr your value: 12\n",
      "enter your value: 10\n",
      "22\n"
     ]
    }
   ],
   "source": [
    "a = int(input(\"enetr your value: \"))\n",
    "b = int(input(\"enter your value: \"))\n",
    "def add():\n",
    "    c = a+b\n",
    "    print(c)\n",
    "    \n",
    "add()"
   ]
  },
  {
   "cell_type": "markdown",
   "metadata": {},
   "source": [
    "### local variables and global variables:"
   ]
  },
  {
   "cell_type": "code",
   "execution_count": 2,
   "metadata": {},
   "outputs": [
    {
     "name": "stdout",
     "output_type": "stream",
     "text": [
      "20\n",
      "30\n",
      "10\n"
     ]
    }
   ],
   "source": [
    "a = 10\n",
    "def my():\n",
    "    b = 20\n",
    "    a = 30\n",
    "    print(b)\n",
    "    print(a)\n",
    "my()\n",
    "print(a)"
   ]
  },
  {
   "cell_type": "markdown",
   "metadata": {},
   "source": [
    "### Types of Arguments:\n",
    "- Required Arguments: the arguments in the function need to bementioned in the same order \n",
    "- Default Arguments: the values for the arguments can be assiagned during the function calling\n",
    "- keyword Arguments: during the calling of the function the parameters can be called with the keywword \n",
    "- variable length arguments"
   ]
  },
  {
   "cell_type": "code",
   "execution_count": 3,
   "metadata": {},
   "outputs": [
    {
     "name": "stdout",
     "output_type": "stream",
     "text": [
      "20\n",
      "10\n"
     ]
    }
   ],
   "source": [
    "#Required arguments:\n",
    "def display(a = 0,b = 0.0):\n",
    "    print(a)\n",
    "    print(b)\n",
    "display(20,10)"
   ]
  },
  {
   "cell_type": "code",
   "execution_count": 4,
   "metadata": {},
   "outputs": [
    {
     "name": "stdout",
     "output_type": "stream",
     "text": [
      "10\n",
      "10.9\n"
     ]
    }
   ],
   "source": [
    "#keyword arguments:\n",
    "def display(a = 0,b = 0.0):\n",
    "    print(a)\n",
    "    print(b)\n",
    "display(a=10,b=10.9)"
   ]
  },
  {
   "cell_type": "code",
   "execution_count": 5,
   "metadata": {},
   "outputs": [
    {
     "name": "stdout",
     "output_type": "stream",
     "text": [
      "sravya\n",
      "AGE\n"
     ]
    }
   ],
   "source": [
    "#default arguments:\n",
    "def dis(name, branch= \"AGE\"):\n",
    "    print(name)\n",
    "    print(branch)\n",
    "dis(name=\"sravya\")"
   ]
  },
  {
   "cell_type": "code",
   "execution_count": 13,
   "metadata": {},
   "outputs": [
    {
     "data": {
      "text/plain": [
       "('sravya', 'EEE')"
      ]
     },
     "execution_count": 13,
     "metadata": {},
     "output_type": "execute_result"
    }
   ],
   "source": [
    "#default arguments:\n",
    "def dis(name=None, branch= \"AGE\"):\n",
    "    #print(name)\n",
    "    #print(branch)\n",
    "    return name,branch\n",
    "dis(name=\"sravya\",branch=\"EEE\")"
   ]
  },
  {
   "cell_type": "code",
   "execution_count": 20,
   "metadata": {},
   "outputs": [
    {
     "name": "stdout",
     "output_type": "stream",
     "text": [
      "2\n",
      "4\n",
      "6\n",
      "8\n",
      "10\n"
     ]
    }
   ],
   "source": [
    "def even(i):\n",
    "    if i%2==0:\n",
    "        return 1\n",
    "for i in range (1,11):\n",
    "    if even(i)==1:\n",
    "        print(i)"
   ]
  },
  {
   "cell_type": "code",
   "execution_count": 25,
   "metadata": {},
   "outputs": [
    {
     "name": "stdout",
     "output_type": "stream",
     "text": [
      "30\n"
     ]
    }
   ],
   "source": [
    "def sum(i):\n",
    "    if i%2==0:\n",
    "        return 1\n",
    "s = 0\n",
    "for i in range (1,11):\n",
    "    if sum(i)==1:\n",
    "        s = s+i\n",
    "print(s)"
   ]
  }
 ],
 "metadata": {
  "kernelspec": {
   "display_name": "Python 3",
   "language": "python",
   "name": "python3"
  },
  "language_info": {
   "codemirror_mode": {
    "name": "ipython",
    "version": 3
   },
   "file_extension": ".py",
   "mimetype": "text/x-python",
   "name": "python",
   "nbconvert_exporter": "python",
   "pygments_lexer": "ipython3",
   "version": "3.7.3"
  }
 },
 "nbformat": 4,
 "nbformat_minor": 2
}
