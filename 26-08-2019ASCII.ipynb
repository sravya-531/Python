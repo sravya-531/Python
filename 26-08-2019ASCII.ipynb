{
 "cells": [
  {
   "cell_type": "code",
   "execution_count": null,
   "metadata": {},
   "outputs": [],
   "source": [
    "N = int(input())\n",
    "A = input().split()\n",
    "l = len(A)\n",
    "answer = 1\n",
    "for i in range (1,l)\n",
    "    answer = (answer*int(A[i])%(10**9 +7)\n",
    "              "
   ]
  },
  {
   "cell_type": "code",
   "execution_count": null,
   "metadata": {},
   "outputs": [],
   "source": [
    "a = input().split()\n",
    "l = int(a[0])\n",
    "r = int(a[1])\n",
    "k = int(a[2])\n",
    "count = 0\n",
    "for i in range(l,r+1):\n",
    "    if i%k==0:\n",
    "        count = count+1\n",
    "print(count)"
   ]
  },
  {
   "cell_type": "code",
   "execution_count": null,
   "metadata": {},
   "outputs": [],
   "source": [
    "N = int(input())\n",
    "for i in range(N):\n",
    "    t = input().split()\n",
    "    SH = int(t[0])\n",
    "    SM = int(t[1])\n",
    "    EH = int(t[2])\n",
    "    EM = int(t[3])\n",
    "    if SM<60:\n",
    "        SM = 60-SM\n",
    "        #print(SM)\n",
    "        SH = SH+1\n",
    "        #print(SH)\n",
    "    TH = EH-SH\n",
    "    TM = SM+EM\n",
    "    print(TH, end = \" \")\n",
    "    print(TM)"
   ]
  },
  {
   "cell_type": "code",
   "execution_count": null,
   "metadata": {},
   "outputs": [],
   "source": [
    "N = int(input())\n",
    "for i in range(N):\n",
    "    t = input().split()\n",
    "    SH = int(t[0])\n",
    "    SM = int(t[1])\n",
    "    EH = int(t[2])\n",
    "    EM = int(t[3])\n",
    "    if SM<60:\n",
    "        SM = 60-SM\n",
    "        #print(SM)\n",
    "        SH = SH+1\n",
    "        #print(SH)\n",
    "    TH = EH-SH\n",
    "    TM = SM+EM\n",
    "    if TM>=60:\n",
    "        TH = TH+1\n",
    "        TM = TM-60\n",
    "    print(TH, end = \" \")\n",
    "    print(TM)"
   ]
  },
  {
   "cell_type": "markdown",
   "metadata": {},
   "source": [
    "#### ASCII values of A-Z starts from 65 to 90\n",
    "#### ASCII values of a-z starts from 97 to 122"
   ]
  },
  {
   "cell_type": "code",
   "execution_count": null,
   "metadata": {},
   "outputs": [],
   "source": [
    "print(chr(117))\n",
    "print(chr(103))"
   ]
  },
  {
   "cell_type": "code",
   "execution_count": null,
   "metadata": {},
   "outputs": [],
   "source": [
    "print(ord('g'))"
   ]
  },
  {
   "cell_type": "markdown",
   "metadata": {},
   "source": [
    "#### play with numbers:"
   ]
  },
  {
   "cell_type": "code",
   "execution_count": null,
   "metadata": {},
   "outputs": [],
   "source": [
    "n = input().split()\n",
    "N = int(n[0])\n",
    "e = input().split()\n",
    "Q = int(n[1])\n",
    "def mean():\n",
    "    sum = 0\n",
    "    c = 0\n",
    "    for x in range (L-1,R):\n",
    "        sum = sum+int(e[x])\n",
    "        c =c+1\n",
    "    m = sum//c\n",
    "    print(m)\n",
    "for j in range(Q):\n",
    "    t = input().split()\n",
    "    L = int(t[0])\n",
    "    R = int(t[1])\n",
    "    mean()"
   ]
  },
  {
   "cell_type": "markdown",
   "metadata": {},
   "source": [
    "#### char sum:"
   ]
  },
  {
   "cell_type": "code",
   "execution_count": 3,
   "metadata": {},
   "outputs": [
    {
     "name": "stdout",
     "output_type": "stream",
     "text": [
      "a b c d e f g h i j k l m n o p q r s t u v w x y z "
     ]
    }
   ],
   "source": [
    "for i in range(97,123):\n",
    "    x = chr(i)\n",
    "    print(x,end = \" \")"
   ]
  },
  {
   "cell_type": "markdown",
   "metadata": {},
   "source": [
    "#### Ladderophilia:"
   ]
  },
  {
   "cell_type": "code",
   "execution_count": 6,
   "metadata": {},
   "outputs": [
    {
     "name": "stdout",
     "output_type": "stream",
     "text": [
      "* * \n",
      "* * * \n",
      "* * * * \n",
      "* * * * * \n"
     ]
    }
   ],
   "source": [
    "for x in range(3,7):\n",
    "    for y in range(1,x):\n",
    "        print(\"*\",end = \" \")\n",
    "    print()"
   ]
  },
  {
   "cell_type": "markdown",
   "metadata": {},
   "source": [
    "#### Life, the universe and evrything in hacker"
   ]
  },
  {
   "cell_type": "code",
   "execution_count": null,
   "metadata": {},
   "outputs": [],
   "source": [
    "n = int(input())\n",
    "l = []\n",
    "while n!=42:\n",
    "    l.append(n)\n",
    "l2 = l.sort()\n",
    "le = len(l2)\n",
    "for i in range(le):\n",
    "    print(l2)"
   ]
  }
 ],
 "metadata": {
  "kernelspec": {
   "display_name": "Python 3",
   "language": "python",
   "name": "python3"
  },
  "language_info": {
   "codemirror_mode": {
    "name": "ipython",
    "version": 3
   },
   "file_extension": ".py",
   "mimetype": "text/x-python",
   "name": "python",
   "nbconvert_exporter": "python",
   "pygments_lexer": "ipython3",
   "version": "3.7.3"
  }
 },
 "nbformat": 4,
 "nbformat_minor": 2
}
