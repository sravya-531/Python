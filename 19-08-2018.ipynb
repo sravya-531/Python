{
 "cells": [
  {
   "cell_type": "code",
   "execution_count": 1,
   "metadata": {},
   "outputs": [
    {
     "name": "stdout",
     "output_type": "stream",
     "text": [
      "this is sravya\n",
      "I am a Business Analyst\n",
      "'My native place is Jayapuram'\n",
      "Suryadevara\n",
      "Sravya\n",
      "\"Suryadevara\"\n"
     ]
    }
   ],
   "source": [
    "a = \"this is sravya\"\n",
    "b = 'I am a Business Analyst'\n",
    "c = \"'My native place is Jayapuram'\"\n",
    "d = \"\"\"Suryadevara\"\"\"\n",
    "print(a);print(b);print(c);print(d)\n",
    "e = '''Sravya'''; print(e);e\n",
    "f = '\"Suryadevara\"';print(f)"
   ]
  },
  {
   "cell_type": "code",
   "execution_count": 15,
   "metadata": {},
   "outputs": [
    {
     "data": {
      "text/plain": [
       "'r'"
      ]
     },
     "execution_count": 15,
     "metadata": {},
     "output_type": "execute_result"
    }
   ],
   "source": [
    "a = \"sravya\"\n",
    "a[1]"
   ]
  },
  {
   "cell_type": "code",
   "execution_count": 17,
   "metadata": {},
   "outputs": [
    {
     "data": {
      "text/plain": [
       "'Nav'"
      ]
     },
     "execution_count": 17,
     "metadata": {},
     "output_type": "execute_result"
    }
   ],
   "source": [
    "a = \"Navya\"\n",
    "a[0:3]"
   ]
  },
  {
   "cell_type": "code",
   "execution_count": 19,
   "metadata": {},
   "outputs": [
    {
     "data": {
      "text/plain": [
       "'Sy'"
      ]
     },
     "execution_count": 19,
     "metadata": {},
     "output_type": "execute_result"
    }
   ],
   "source": [
    "a = \"Suryadevara\"\n",
    "a[0:5:3]"
   ]
  },
  {
   "cell_type": "code",
   "execution_count": 21,
   "metadata": {},
   "outputs": [
    {
     "data": {
      "text/plain": [
       "'Sayv'"
      ]
     },
     "execution_count": 21,
     "metadata": {},
     "output_type": "execute_result"
    }
   ],
   "source": [
    "a = \"SravyaSuryadevara\"\n",
    "a[6:2:-1]"
   ]
  },
  {
   "cell_type": "code",
   "execution_count": 34,
   "metadata": {},
   "outputs": [
    {
     "name": "stdout",
     "output_type": "stream",
     "text": [
      "Mrw\n",
      "d\n",
      "Merkw\n",
      "Merkwood\n",
      "doowkreM\n"
     ]
    }
   ],
   "source": [
    "a = \"Merkwood\"\n",
    "print(a[:5:2])\n",
    "print(a[-1])\n",
    "print(a[:-3])\n",
    "print(a[::1])#for printing the whole string\n",
    "print(a[::-1])# for reversing the string"
   ]
  },
  {
   "cell_type": "code",
   "execution_count": 36,
   "metadata": {},
   "outputs": [
    {
     "name": "stdout",
     "output_type": "stream",
     "text": [
      "enter your String: Sravya Suryadevara\n",
      "Sravya Suryadevara\n",
      "aravedayruS ayvarS\n",
      "Sravya Suryadevara\n",
      "Sravya Suryade\n",
      "rva\n",
      " ya\n"
     ]
    }
   ],
   "source": [
    "a = input(\"enter your String: \")\n",
    "print(a)\n",
    "print(a[::-1])\n",
    "print(a[::1])\n",
    "print(a[0:-4])\n",
    "print(a[1:6:2])\n",
    "print(a[6:1:-2])"
   ]
  },
  {
   "cell_type": "code",
   "execution_count": 40,
   "metadata": {},
   "outputs": [
    {
     "name": "stdout",
     "output_type": "stream",
     "text": [
      "Sravya Suryadevara\n"
     ]
    }
   ],
   "source": [
    "print(a)"
   ]
  },
  {
   "cell_type": "code",
   "execution_count": 43,
   "metadata": {},
   "outputs": [
    {
     "name": "stdout",
     "output_type": "stream",
     "text": [
      "False\n",
      "True\n",
      "False\n",
      "True\n",
      "False\n"
     ]
    }
   ],
   "source": [
    "print(2 == 3)\n",
    "print(2 !=3)\n",
    "print(2>=3)\n",
    "print(3<=3)\n",
    "print(-5<-9)"
   ]
  },
  {
   "cell_type": "code",
   "execution_count": 45,
   "metadata": {},
   "outputs": [
    {
     "name": "stdout",
     "output_type": "stream",
     "text": [
      "True\n",
      "False\n",
      "False\n",
      "False\n",
      "True\n",
      "True\n"
     ]
    }
   ],
   "source": [
    "print(0==0.0)\n",
    "print(5 ==True)\n",
    "print(0 == True)\n",
    "print(\"49\" == 49)\n",
    "print(7 > True)\n",
    "print(7 > False)"
   ]
  },
  {
   "cell_type": "code",
   "execution_count": 55,
   "metadata": {},
   "outputs": [
    {
     "name": "stdout",
     "output_type": "stream",
     "text": [
      "enter your first name:Sravya \n",
      "enter your last name:Suryadevara \n",
      "Sravya Suryadevara \n",
      "Suryadevara Sravya \n"
     ]
    }
   ],
   "source": [
    "a = input(\"enter your first name:\")\n",
    "b = input(\"enter your last name:\")\n",
    "print(a + b)\n",
    "print(b + a)"
   ]
  },
  {
   "cell_type": "code",
   "execution_count": 60,
   "metadata": {},
   "outputs": [
    {
     "name": "stdout",
     "output_type": "stream",
     "text": [
      "enter your first number: 10\n",
      "enter ypur second number: 20\n",
      "30\n"
     ]
    }
   ],
   "source": [
    "a = int(input(\"enter your first number: \"))\n",
    "b = int(input(\"enter ypur second number: \"))\n",
    "print(a+b)"
   ]
  },
  {
   "cell_type": "code",
   "execution_count": 65,
   "metadata": {},
   "outputs": [
    {
     "name": "stdout",
     "output_type": "stream",
     "text": [
      "enter your number for iterating: 4\n",
      "enter your name: df\n",
      "dfdfdfdf\n"
     ]
    }
   ],
   "source": [
    "a = int(input(\"enter your number for iterating: \"))\n",
    "b = input(\"enter your name: \")\n",
    "c = a * b\n",
    "print(c)"
   ]
  },
  {
   "cell_type": "code",
   "execution_count": 68,
   "metadata": {},
   "outputs": [
    {
     "name": "stdout",
     "output_type": "stream",
     "text": [
      "0123"
     ]
    }
   ],
   "source": [
    "for x in range(4):\n",
    "    print(x, end = \"\")"
   ]
  },
  {
   "cell_type": "code",
   "execution_count": 73,
   "metadata": {},
   "outputs": [
    {
     "name": "stdout",
     "output_type": "stream",
     "text": [
      "sravya\n"
     ]
    }
   ],
   "source": [
    "a = \"sravya\"\n",
    "print(a)"
   ]
  },
  {
   "cell_type": "code",
   "execution_count": 75,
   "metadata": {},
   "outputs": [
    {
     "name": "stdout",
     "output_type": "stream",
     "text": [
      "s\n",
      "r\n",
      "a\n",
      "v\n",
      "y\n",
      "a\n"
     ]
    }
   ],
   "source": [
    "for x in a:\n",
    "    print(x)"
   ]
  },
  {
   "cell_type": "code",
   "execution_count": 78,
   "metadata": {},
   "outputs": [
    {
     "name": "stdout",
     "output_type": "stream",
     "text": [
      "sravya suryadevara\n"
     ]
    }
   ],
   "source": [
    "print(\"sravya\",\"suryadevara\", sep=\" \")"
   ]
  },
  {
   "cell_type": "code",
   "execution_count": 82,
   "metadata": {},
   "outputs": [
    {
     "name": "stdout",
     "output_type": "stream",
     "text": [
      "enter your num: 47\n",
      "odd\n"
     ]
    }
   ],
   "source": [
    "# even or odd \n",
    "n = int(input(\"enter your num: \"))\n",
    "if n%2==0:\n",
    "    print(\"even\")\n",
    "else:\n",
    "    print(\"odd\")"
   ]
  },
  {
   "cell_type": "code",
   "execution_count": 91,
   "metadata": {},
   "outputs": [
    {
     "name": "stdout",
     "output_type": "stream",
     "text": [
      "enter your number: 45\n",
      "+ve\n"
     ]
    }
   ],
   "source": [
    "# +ve, -ve or zero\n",
    "n = int(input(\"enter your number: \"))\n",
    "if n>0:\n",
    "    print(\"+ve\")\n",
    "elif n<0:\n",
    "    print(\"-ve\")\n",
    "else:\n",
    "    print(\"zero\")"
   ]
  },
  {
   "cell_type": "code",
   "execution_count": 99,
   "metadata": {},
   "outputs": [
    {
     "name": "stdout",
     "output_type": "stream",
     "text": [
      "1\n",
      "2\n",
      "3\n"
     ]
    }
   ],
   "source": [
    "#factors of a number\n",
    "n = 6\n",
    "for x in range (1,n):\n",
    "    if n%x==0:\n",
    "        print(x)"
   ]
  },
  {
   "cell_type": "code",
   "execution_count": 101,
   "metadata": {},
   "outputs": [
    {
     "name": "stdout",
     "output_type": "stream",
     "text": [
      "enter your number: 20\n",
      "1\n",
      "2\n",
      "4\n",
      "5\n",
      "10\n"
     ]
    }
   ],
   "source": [
    "# factos of a given number\n",
    "n = int(input(\"enter your number: \"))\n",
    "for x in range (1,n):\n",
    "    if n%x==0:\n",
    "        print(x)"
   ]
  },
  {
   "cell_type": "code",
   "execution_count": 105,
   "metadata": {},
   "outputs": [
    {
     "name": "stdout",
     "output_type": "stream",
     "text": [
      "enter your num: 60\n",
      "8\n",
      "16\n",
      "24\n",
      "32\n",
      "40\n",
      "48\n",
      "56\n"
     ]
    }
   ],
   "source": [
    "#Multiples of 8\n",
    "a = 8\n",
    "n = int(input(\"enter your num: \"))\n",
    "for x in range (1,n):\n",
    "    if x%8==0:\n",
    "        print(x)"
   ]
  },
  {
   "cell_type": "code",
   "execution_count": 112,
   "metadata": {},
   "outputs": [
    {
     "name": "stdout",
     "output_type": "stream",
     "text": [
      "enter your num: 23\n",
      "n is odd\n",
      "odd but not multiple of 7\n"
     ]
    }
   ],
   "source": [
    "#if even check multiples of 8 or not\n",
    "#if odd check multiples of 7 or not\n",
    "n = int(input(\"enter your num: \"))\n",
    "if n%2==0:\n",
    "    print(\"n is even\")\n",
    "    if n%8==0:\n",
    "        print(\"multiplies of 8\")\n",
    "    else:\n",
    "        print(\"even but not multiple of 8\")\n",
    "else:\n",
    "    print(\"n is odd\")\n",
    "    if n%7==0:\n",
    "        print(\"multiple of 7\")\n",
    "    else:\n",
    "        print(\"odd but not multiple of 7\")"
   ]
  },
  {
   "cell_type": "code",
   "execution_count": 118,
   "metadata": {},
   "outputs": [
    {
     "name": "stdout",
     "output_type": "stream",
     "text": [
      "enter your number: 28\n",
      "28\n",
      "perfect number\n"
     ]
    }
   ],
   "source": [
    "#perefect number or not\n",
    "n = int(input(\"enter your number: \"))\n",
    "sum = 0\n",
    "for x in range (1,n):\n",
    "    if n%x==0:\n",
    "        sum = sum+x\n",
    "    else:\n",
    "        continue\n",
    "print(sum)\n",
    "if sum==n:\n",
    "    print(\"perfect number\")\n",
    "else:\n",
    "    print(\"not a perfect number\")"
   ]
  },
  {
   "cell_type": "code",
   "execution_count": 13,
   "metadata": {},
   "outputs": [
    {
     "name": "stdout",
     "output_type": "stream",
     "text": [
      "enter your number: 7\n",
      "total count of factors:  1\n",
      "prime number\n"
     ]
    }
   ],
   "source": [
    "# prime number or not\n",
    "n = int(input(\"enter your number: \"))\n",
    "count = 0\n",
    "for x in range(1,n):\n",
    "    if n%x==0:\n",
    "        count = count+1\n",
    "    else:\n",
    "        continue\n",
    "print(\"total count of factors: \", count)\n",
    "if count >= 2:\n",
    "    print(\"not prime number\")\n",
    "else:\n",
    "    print(\"prime number\")"
   ]
  },
  {
   "cell_type": "code",
   "execution_count": 128,
   "metadata": {},
   "outputs": [
    {
     "name": "stdout",
     "output_type": "stream",
     "text": [
      "2\n",
      "4\n",
      "6\n",
      "8\n",
      "10\n"
     ]
    }
   ],
   "source": [
    "#printing even numbers\n",
    "for x in range (2,11,2):\n",
    "    print(x)"
   ]
  },
  {
   "cell_type": "code",
   "execution_count": 139,
   "metadata": {},
   "outputs": [
    {
     "name": "stdout",
     "output_type": "stream",
     "text": [
      "enter your number: 24\n",
      "1\n",
      "2\n",
      "3\n"
     ]
    }
   ],
   "source": [
    "#prime factors of a given number\n",
    "n = int(input(\"enter your number: \"))\n",
    "count = 0\n",
    "for x in range (1,n):\n",
    "    if n%x==0:\n",
    "        for y in range (1,x):\n",
    "            if x%y==0:\n",
    "                count = count+1\n",
    "            else:\n",
    "                continue\n",
    "        if count<=2:\n",
    "            print(x)\n",
    "        else:\n",
    "            continue\n",
    "    else: \n",
    "        continue\n",
    "                "
   ]
  },
  {
   "cell_type": "code",
   "execution_count": 140,
   "metadata": {},
   "outputs": [
    {
     "name": "stdout",
     "output_type": "stream",
     "text": [
      "1 2 3 4 5 6 7 8 9 10 "
     ]
    }
   ],
   "source": [
    "#multiples of 3 using while\n",
    "i = 1\n",
    "while i<=10:\n",
    "    print(i,end= \" \")\n",
    "    i = i+1"
   ]
  },
  {
   "cell_type": "code",
   "execution_count": 5,
   "metadata": {},
   "outputs": [
    {
     "name": "stdout",
     "output_type": "stream",
     "text": [
      "enter your number: 6\n",
      "720\n"
     ]
    }
   ],
   "source": [
    "#factorial of numbers\n",
    "n = int(input(\"enter your number: \"))\n",
    "fact = 1\n",
    "for x in range (1,n+1):\n",
    "    if x<=n:\n",
    "        fact = fact*x\n",
    "    else:\n",
    "        continue\n",
    "print(fact)\n"
   ]
  },
  {
   "cell_type": "code",
   "execution_count": 26,
   "metadata": {},
   "outputs": [
    {
     "name": "stdout",
     "output_type": "stream",
     "text": [
      "enter the range of series: 6\n",
      "0\n",
      "1\n",
      "1\n",
      "2\n",
      "3\n",
      "5\n"
     ]
    }
   ],
   "source": [
    "#fibbonaci series\n",
    "n = int(input(\"enter the range of series: \"))\n",
    "t1 = 0 ; print(t1)\n",
    "t2 = 1 ; print(t2)\n",
    "for x in range (1,n-1):\n",
    "    if x<n:\n",
    "        t = t1+t2\n",
    "        t1 = t2\n",
    "        t2 = t\n",
    "        print(t)"
   ]
  },
  {
   "cell_type": "code",
   "execution_count": 24,
   "metadata": {},
   "outputs": [
    {
     "name": "stdout",
     "output_type": "stream",
     "text": [
      "enter your year: 2004\n",
      "leap year\n"
     ]
    }
   ],
   "source": [
    "#leap year or not\n",
    "y = int(input(\"enter your year: \"))\n",
    "if y%4==0:\n",
    "    if y%100!=0:\n",
    "        print(\"leap year\")\n",
    "    else:\n",
    "        if y%400==0:\n",
    "            print(\"leap year\")\n",
    "        else:\n",
    "            print(\"not an leap year\")\n",
    "        \n",
    "else:\n",
    "    print(\"not an leap year\")"
   ]
  },
  {
   "cell_type": "code",
   "execution_count": null,
   "metadata": {},
   "outputs": [],
   "source": []
  }
 ],
 "metadata": {
  "kernelspec": {
   "display_name": "Python 3",
   "language": "python",
   "name": "python3"
  },
  "language_info": {
   "codemirror_mode": {
    "name": "ipython",
    "version": 3
   },
   "file_extension": ".py",
   "mimetype": "text/x-python",
   "name": "python",
   "nbconvert_exporter": "python",
   "pygments_lexer": "ipython3",
   "version": "3.7.3"
  }
 },
 "nbformat": 4,
 "nbformat_minor": 2
}
